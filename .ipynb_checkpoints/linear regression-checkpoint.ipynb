{
 "cells": [
  {
   "cell_type": "code",
   "execution_count": 1,
   "metadata": {},
   "outputs": [],
   "source": [
    "import numpy as np\n",
    "from numpy import genfromtxt\n",
    "import matplotlib.pyplot as plt\n",
    "def normalize(features):\n",
    "    for feature in features.T:\n",
    "        fmean = np.mean(feature)\n",
    "        frange = np.amax(feature) - np.amin(feature)\n",
    "        feature -= fmean\n",
    "        feature /= frange\n",
    "    return features\n",
    "def initialize_wt():\n",
    "    weights = np.ones(shape=(14,1))\n",
    "    return weights"
   ]
  },
  {
   "cell_type": "code",
   "execution_count": 2,
   "metadata": {},
   "outputs": [],
   "source": [
    "def predict(features, weights):\n",
    "        predictions = np.dot(features, weights)\n",
    "        return predictions"
   ]
  },
  {
   "cell_type": "code",
   "execution_count": 3,
   "metadata": {},
   "outputs": [],
   "source": [
    "def cost_function(features, targets, weights):\n",
    "    N = len(targets)\n",
    "    predictions = predict(features, weights)\n",
    "    sq_error = (predictions - targets)**2\n",
    "    return 1.0/(2*N) * sq_error.sum()"
   ]
  },
  {
   "cell_type": "code",
   "execution_count": 4,
   "metadata": {},
   "outputs": [],
   "source": [
    "def update_weights(features, targets, weights, lr,):\n",
    "    predictions = predict(features, weights)\n",
    "    derivatives = np.dot(features.T, (targets-predictions))\n",
    "    derivatives = ((derivatives*lr)/506)*(-1);\n",
    "    weights -= derivatives \n",
    "    return weights"
   ]
  },
  {
   "cell_type": "code",
   "execution_count": 6,
   "metadata": {},
   "outputs": [
    {
     "data": {
      "image/png": "[encoded data removed]",
      "text/plain": [
       "<Figure size 432x288 with 1 Axes>"
      ]
     },
     "metadata": {
      "needs_background": "light"
     },
     "output_type": "display_data"
    }
   ],
   "source": [
    "def main():\n",
    "    my_data = genfromtxt('housing.csv')\n",
    "    features = my_data[:,:13]#np array because extracted with genfromtxt\n",
    "    targets = my_data[:,13:]\n",
    "    features = normalize(features)\n",
    "    weights = initialize_wt()\n",
    "    lr = 0.005\n",
    "    bias = np.ones(shape=(len(features),1))\n",
    "    features = np.append(bias, features, axis=1)\n",
    "    #print(features)\n",
    "    MSE_array = []\n",
    "    for i in range(1000):\n",
    "        MSE = cost_function(features, targets, weights)\n",
    "        weights = update_weights(features, targets, weights, lr)\n",
    "        #print(MSE)\n",
    "        MSE_array.append(MSE)\n",
    "    plt.plot(MSE_array,)\n",
    "    plt.title(\"Housing Price\")\n",
    "    plt.ylabel(\"MSE\")\n",
    "    plt.xlabel(\"epoch\")\n",
    "    plt.show()\n",
    "if __name__== \"__main__\":\n",
    " main()"
   ]
  }
 ],
 "metadata": {
  "kernelspec": {
   "display_name": "Python 3",
   "language": "python",
   "name": "python3"
  },
  "language_info": {
   "codemirror_mode": {
    "name": "ipython",
    "version": 3
   },
   "file_extension": ".py",
   "mimetype": "text/x-python",
   "name": "python",
   "nbconvert_exporter": "python",
   "pygments_lexer": "ipython3",
   "version": "3.7.4"
  }
 },
 "nbformat": 4,
 "nbformat_minor": 2
}
