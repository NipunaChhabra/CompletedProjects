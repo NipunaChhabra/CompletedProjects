{
 "cells": [
  {
   "cell_type": "code",
   "execution_count": 1,
   "metadata": {},
   "outputs": [],
   "source": [
    "def predict(features, weights):\n",
    "    z = np.dot(features, weights)\n",
    "    return sigmoid(z)"
   ]
  },
  {
   "cell_type": "code",
   "execution_count": 2,
   "metadata": {},
   "outputs": [],
   "source": [
    "def sigmoid(z):\n",
    "    k = 1 / (1 + np.exp(-z))\n",
    "    #plt.plot(k,)\n",
    "    #plt.show()\n",
    "    return k"
   ]
  },
  {
   "cell_type": "code",
   "execution_count": 3,
   "metadata": {},
   "outputs": [],
   "source": [
    "def initialize_wt():\n",
    "    weights = [[0.00001],[0.00001],[0.00001],[0.00001],[0.00001],[0.00001],[0.00001]]\n",
    "    #weights = [[0],[0],[0],[0],[0],[0],[0]]\n",
    "    return weights"
   ]
  },
  {
   "cell_type": "code",
   "execution_count": 4,
   "metadata": {},
   "outputs": [],
   "source": [
    "def cost_function(features, labels, weights):\n",
    "    observations = len(labels)\n",
    "    predictions = predict(features, weights)\n",
    "    class1_cost = -labels*np.log(predictions)\n",
    "    class2_cost = (1-labels)*np.log(1-predictions)\n",
    "    cost = class1_cost + class2_cost\n",
    "    cost = -(cost.sum() / observations)\n",
    "    return cost"
   ]
  },
  {
   "cell_type": "code",
   "execution_count": 5,
   "metadata": {},
   "outputs": [],
   "source": [
    "def update_weights(features, labels, weights, lr):\n",
    "    N = len(features)\n",
    "    predictions = predict(features, weights)\n",
    "    gradient = np.dot(features.T,  predictions - labels)\n",
    "    gradient /= N\n",
    "    gradient *= lr\n",
    "    weights -= gradient\n",
    "    return weights"
   ]
  },
  {
   "cell_type": "code",
   "execution_count": 6,
   "metadata": {},
   "outputs": [],
   "source": [
    "def train(features, labels, weights, lr, iters):\n",
    "    cost_history = []\n",
    "    for i in range(iters+1):\n",
    "        weights = update_weights(features, labels, weights, lr)\n",
    "        cost = cost_function(features, labels, weights)\n",
    "        cost_history.append(cost)\n",
    "        if i % 1000 == 0:\n",
    "           print(\"iter: \" + str(i) + \" cost: \" + str(cost))\n",
    "    return weights, cost_history"
   ]
  },
  {
   "cell_type": "code",
   "execution_count": 7,
   "metadata": {},
   "outputs": [],
   "source": [
    "def accuracy(predicted_labels, actual_labels):\n",
    "    count = 0\n",
    "    diff = predicted_labels - actual_labels\n",
    "    for d in np.nditer(diff):\n",
    "        if(d==0):count+=1\n",
    "    acc = count/len(predicted_labels)\n",
    "    return acc"
   ]
  },
  {
   "cell_type": "code",
   "execution_count": null,
   "metadata": {},
   "outputs": [],
   "source": [
    "def accuracy(predicted_labels, actual_labels):\n",
    "    diff = predicted_labels - actual_labels\n",
    "    return 1.0 - (float(np.count_nonzero(diff)) / len(diff))"
   ]
  },
  {
   "cell_type": "code",
   "execution_count": 8,
   "metadata": {},
   "outputs": [
    {
     "name": "stdout",
     "output_type": "stream",
     "text": [
      "iter: 0 cost: 0.06390856862841816\n",
      "iter: 1000 cost: 0.2028010435789115\n",
      "iter: 2000 cost: 0.16626020931126353\n",
      "iter: 3000 cost: 0.13908191216962654\n",
      "iter: 4000 cost: 0.1142702744053638\n",
      "iter: 5000 cost: 0.0923757781651156\n",
      "iter: 6000 cost: 0.07375179673463375\n",
      "iter: 7000 cost: 0.05842818677909979\n",
      "iter: 8000 cost: 0.046249329637568476\n",
      "iter: 9000 cost: 0.03694694790225541\n",
      "iter: 10000 cost: 0.03017891045508361\n",
      "iter: 11000 cost: 0.025559857924240738\n",
      "iter: 12000 cost: 0.022692572260804646\n",
      "iter: 13000 cost: 0.021198046532244857\n",
      "iter: 14000 cost: 0.020738580810857478\n",
      "iter: 15000 cost: 0.021030385748427728\n",
      "iter: 16000 cost: 0.02184616093943684\n",
      "iter: 17000 cost: 0.023010698166564186\n",
      "iter: 18000 cost: 0.024392993283056455\n",
      "iter: 19000 cost: 0.02589750036430462\n",
      "iter: 20000 cost: 0.027456038059667506\n"
     ]
    },
    {
     "data": {
      "text/plain": [
       "<Figure size 4.8x6.4 with 1 Axes>"
      ]
     },
     "metadata": {},
     "output_type": "display_data"
    },
    {
     "name": "stdout",
     "output_type": "stream",
     "text": [
      "0.930622009569378\n"
     ]
    }
   ],
   "source": [
    "#restuctured\n",
    "import numpy as np\n",
    "import math as math\n",
    "import matplotlib.pyplot as plt\n",
    "import pandas as pd\n",
    "def decision_boundary(prob):\n",
    "    return 1 if prob >= .5 else 0\n",
    "def classify(predictions):\n",
    "    predicted_labels = []\n",
    "    for prob in predictions:\n",
    "        predicted_labels.append(decision_boundary(prob))\n",
    "    return predicted_labels\n",
    "def main():\n",
    "    features = pd.read_csv('train.csv')\n",
    "    train_labels = features.Survived\n",
    "    train_labels = np.array(train_labels)\n",
    "    train_labels = train_labels.reshape(891,1)\n",
    "    features = features.drop('Name', axis = 1)\n",
    "    features = features.drop('PassengerId', axis = 1)\n",
    "    features = features.drop('Survived', axis = 1)\n",
    "    features = features.drop('Ticket', axis = 1)\n",
    "    features = features.drop('Cabin', axis = 1)\n",
    "    features = features.drop('Embarked', axis = 1)\n",
    "    fmean = np.mean(features.Age)\n",
    "    SD=(features['Age'].std())\n",
    "    l1=fmean-SD\n",
    "    l2=fmean+SD\n",
    "    j=0\n",
    "    for Age in features.iloc[:,2]:\n",
    "        if(math.isnan(Age)):features.iloc[j,2] = fmean\n",
    "    #np.random.randint([l1,l2])\n",
    "        j+=1\n",
    "    i=0\n",
    "    for sex in features.iloc[:,1]:\n",
    "        if sex == \"female\": features.iloc[i,1] = 1\n",
    "        elif sex == 'male': features.iloc[i,1] = 2\n",
    "        i+=1\n",
    "    features = np.array(features)\n",
    "    bias = np.ones(shape=(len(features),1))\n",
    "    features = np.append(bias, features, axis=1)\n",
    "    \n",
    "    weights=initialize_wt()\n",
    "    cost_hist = []\n",
    "    lr = 0.005\n",
    "    iters = 20000\n",
    "    weights, cost_hist=train(features, train_labels, weights, lr, iters)\n",
    "    \n",
    "    fig = plt.figure(figsize=(0.048,0.064))\n",
    "    fig.add_subplot(8,8,1)\n",
    "    #fig.set_aspect('equal')\n",
    "    plt.plot(range(iters+1),cost_hist)\n",
    "    plt.show()\n",
    "    \n",
    "    Testfeatures = pd.read_csv('test.csv')\n",
    "    Testfeatures = Testfeatures.drop('Name', axis = 1)\n",
    "    Testfeatures = Testfeatures.drop('PassengerId', axis = 1)\n",
    "    Testfeatures = Testfeatures.drop('Ticket', axis = 1)\n",
    "    Testfeatures = Testfeatures.drop('Cabin', axis = 1)\n",
    "    Testfeatures = Testfeatures.drop('Embarked', axis = 1)\n",
    "    fmean = np.mean(Testfeatures.Age)\n",
    "    SD=(Testfeatures['Age'].std())\n",
    "    l1=fmean-SD\n",
    "    l2=fmean+SD\n",
    "    j=0\n",
    "    for Age in Testfeatures.iloc[:,2]:\n",
    "        if(math.isnan(Age)):Testfeatures.iloc[j,2] = fmean\n",
    "        #np.random.randint(l1,l2)\n",
    "        j+=1\n",
    "    i=0\n",
    "    for sex in Testfeatures.iloc[:,1]:\n",
    "        if sex == \"female\": Testfeatures.iloc[i,1] = 1\n",
    "        elif sex == 'male': Testfeatures.iloc[i,1] = 2\n",
    "        i+=1\n",
    "    Testfeatures = np.array(Testfeatures)\n",
    "    #Testfeatures['Age']=Testfeatures['Age'].fillna(np.random.randint([l1,l2]))\n",
    "    bias = np.ones(shape=(len(Testfeatures),1))\n",
    "    Testfeatures = np.append(bias, Testfeatures, axis=1)\n",
    "    \n",
    "    actual_labels = pd.read_csv('gender_submission.csv')\n",
    "    actual_labels = actual_labels.drop('PassengerId', axis=1)\n",
    "    actual_labels = np.array(actual_labels)\n",
    "    predicted_labels = classify(predict(Testfeatures, weights))\n",
    "    predicted_labels = np.array(predicted_labels)\n",
    "    predicted_labels = predicted_labels.reshape(418,1)\n",
    "    acc = accuracy(predicted_labels, actual_labels)\n",
    "    print(acc)\n",
    "if __name__== \"__main__\":\n",
    " main()"
   ]
  },
  {
   "cell_type": "code",
   "execution_count": null,
   "metadata": {},
   "outputs": [],
   "source": []
  }
 ],
 "metadata": {
  "kernelspec": {
   "display_name": "Python 3",
   "language": "python",
   "name": "python3"
  },
  "language_info": {
   "codemirror_mode": {
    "name": "ipython",
    "version": 3
   },
   "file_extension": ".py",
   "mimetype": "text/x-python",
   "name": "python",
   "nbconvert_exporter": "python",
   "pygments_lexer": "ipython3",
   "version": "3.7.4"
  }
 },
 "nbformat": 4,
 "nbformat_minor": 2
}
